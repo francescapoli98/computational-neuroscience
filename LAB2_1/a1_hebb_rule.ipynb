{
 "cells": [
  {
   "cell_type": "markdown",
   "metadata": {},
   "source": [
    "# Assignment 1: Basic Hebbian Learning"
   ]
  },
  {
   "cell_type": "markdown",
   "metadata": {},
   "source": [
    "Load the data \n",
    "- rows are input dimensions\n",
    "- columns are different input patterns"
   ]
  },
  {
   "cell_type": "code",
   "execution_count": 2,
   "metadata": {},
   "outputs": [],
   "source": [
    "import numpy as np\n",
    "from numpy import linalg\n",
    "import matplotlib.pyplot as plt\n",
    "import pandas as pd\n",
    "import json\n",
    "from sklearn.model_selection import GridSearchCV\n",
    "from sklearn.utils import shuffle\n",
    "import itertools\n",
    "\n",
    "from hebbian_learning import HebbianLearning"
   ]
  },
  {
   "cell_type": "code",
   "execution_count": 3,
   "metadata": {},
   "outputs": [
    {
     "data": {
      "text/plain": [
       "array([[ 0.74589  ,  0.43352  ,  0.34667  ,  0.43563  ,  0.87224  ,\n",
       "         0.91057  ,  0.53584  ,  0.34912  ,  0.54057  ,  0.46997  ,\n",
       "         0.70024  ,  0.77378  ,  0.82682  ,  0.14546  ,  0.68834  ,\n",
       "         0.35971  ,  0.81554  ,  0.48447  ,  0.29453  ,  0.64096  ,\n",
       "         0.45428  ,  0.63494  ,  0.37933  ,  0.23349  ,  0.90886  ,\n",
       "         0.43876  ,  0.33963  ,  0.41841  ,  0.42219  ,  0.25524  ,\n",
       "         0.5083   ,  0.84596  ,  0.14035  ,  0.39587  ,  0.63698  ,\n",
       "         0.3541   ,  0.68447  ,  0.33946  ,  0.55213  ,  0.79272  ,\n",
       "         0.63809  , -0.0045443,  0.58915  ,  0.71341  ,  0.11595  ,\n",
       "         0.40112  ,  0.42337  ,  0.58805  ,  0.49308  ,  0.85059  ,\n",
       "        -0.35406  , -0.50244  , -0.62183  , -0.605    , -0.95938  ,\n",
       "        -0.72244  , -0.49166  , -0.37627  , -0.82959  , -0.64601  ,\n",
       "        -0.37979  , -0.61365  , -0.9602   ,  0.077495 , -0.26028  ,\n",
       "        -0.71718  , -0.94404  , -0.41195  , -0.71242  , -0.62871  ,\n",
       "        -0.10829  , -0.56198  , -0.19394  , -0.51006  , -0.23111  ,\n",
       "        -0.42031  , -0.61111  , -0.11318  , -0.26898  , -0.30653  ,\n",
       "        -0.79637  , -0.39849  , -0.38828  , -0.2898   , -0.61434  ,\n",
       "        -0.67626  , -0.24658  , -0.20601  , -0.51318  , -0.69516  ,\n",
       "        -0.10911  , -0.28669  , -0.7885   , -0.92342  , -0.72261  ,\n",
       "        -0.68034  , -0.95553  , -0.21214  , -0.50393  , -0.92196  ],\n",
       "       [-0.43265  , -0.53858  , -0.35825  , -0.95307  , -0.59757  ,\n",
       "        -0.7319   , -0.75979  , -0.31302  , -0.56459  , -0.97972  ,\n",
       "        -0.38539  , -0.29958  , -0.64523  , -0.23598  ,  0.28251  ,\n",
       "        -0.10906  , -0.74388  , -0.79279  , -0.70226  , -0.2039   ,\n",
       "        -0.53894  , -0.40594  , -0.12101  , -0.51425  , -0.57161  ,\n",
       "        -0.16906  , -0.66784  , -0.61187  , -0.42756  , -0.59752  ,\n",
       "        -0.81311  , -0.31124  , -0.92162  , -1.0015   , -0.75599  ,\n",
       "        -0.47215  ,  0.015025 , -0.43013  , -0.54293  ,  0.093924 ,\n",
       "        -0.27612  , -0.46469  , -0.41268  , -0.56193  , -0.4506   ,\n",
       "        -0.74893  , -0.48164  , -0.66354  , -0.43842  , -0.61562  ,\n",
       "         0.41096  ,  0.19122  ,  0.85474  ,  0.10631  ,  0.16336  ,\n",
       "         0.18432  ,  0.49461  ,  0.35247  ,  0.54082  ,  0.79243  ,\n",
       "         0.61942  ,  0.80262  ,  0.3079   , -0.1627   ,  0.1493   ,\n",
       "         0.51303  ,  0.57063  ,  0.073505 ,  0.8199   ,  0.15269  ,\n",
       "         0.46647  ,  0.14357  ,  0.79685  ,  0.39772  ,  0.53552  ,\n",
       "         0.41407  ,  0.50424  ,  0.73188  ,  0.52203  ,  0.98443  ,\n",
       "         0.70245  ,  0.77622  ,  0.39109  ,  0.67304  ,  0.67446  ,\n",
       "         0.32924  ,  0.42167  ,  0.43985  ,  0.58406  ,  0.087493 ,\n",
       "         0.65793  ,  0.87399  ,  0.78979  ,  0.59957  ,  0.85781  ,\n",
       "         0.5285   ,  1.0917   ,  0.48182  ,  0.026142 ,  0.52301  ]])"
      ]
     },
     "execution_count": 3,
     "metadata": {},
     "output_type": "execute_result"
    }
   ],
   "source": [
    "dset = pd.read_csv('./lab2_1_data.csv', header=None).to_numpy()#.squeeze()\n",
    "\n",
    "dset"
   ]
  },
  {
   "cell_type": "code",
   "execution_count": 7,
   "metadata": {},
   "outputs": [
    {
     "data": {
      "text/plain": [
       "<matplotlib.collections.PathCollection at 0x1a2b3dda430>"
      ]
     },
     "execution_count": 7,
     "metadata": {},
     "output_type": "execute_result"
    },
    {
     "data": {
      "image/png": "[encoded data removed]",
      "text/plain": [
       "<Figure size 432x288 with 1 Axes>"
      ]
     },
     "metadata": {
      "needs_background": "light"
     },
     "output_type": "display_data"
    }
   ],
   "source": [
    "plt.scatter(*dset)\n"
   ]
  },
  {
   "cell_type": "code",
   "execution_count": 5,
   "metadata": {},
   "outputs": [
    {
     "name": "stdout",
     "output_type": "stream",
     "text": [
      "[ 45723.84444993 -45316.49903397]\n"
     ]
    }
   ],
   "source": [
    "np.random.seed()\n",
    "epochs=200\n",
    "#w = np.random.uniform(low=-1, high=1, size=(2,))\n",
    "#hebb = HebbianLearning(**dset)\n",
    "lr=0.001\n",
    "w_set=[]\n",
    "threshold = 0.000001"
   ]
  },
  {
   "cell_type": "code",
   "execution_count": null,
   "metadata": {},
   "outputs": [],
   "source": [
    "def training(epochs, rule):\n",
    "    for i in range(epochs):\n",
    "        dset= dset[:, np.random.permutation(dset.shape[1])]\n",
    "        w_old = w\n",
    "        for j in range(dset.shape[1]):\n",
    "            u=dset[:,j]\n",
    "            v=np.dot(u,w) \n",
    "            w = rule.w\n",
    "            #plot\n",
    "            w_set.append(w)\n",
    "        if linalg.norm(w-w_old) < threshold:\n",
    "            print(\"Number of epochs runned:\", i+1)\n",
    "            break"
   ]
  },
  {
   "cell_type": "code",
   "execution_count": null,
   "metadata": {},
   "outputs": [],
   "source": [
    "rule=HebbianLearning.hebbian_rule()\n",
    "training(epochs)\n",
    "final_w=w_set[-1]\n",
    "print(final_w)"
   ]
  },
  {
   "cell_type": "markdown",
   "metadata": {},
   "source": [
    "After training is completed plot a figure displaying (on the same graph) the training data points (points in the bidimensional space), the final weight vector w resulting from the learning process and the principal eigenvector of input correlation matrix Q."
   ]
  },
  {
   "cell_type": "code",
   "execution_count": null,
   "metadata": {},
   "outputs": [],
   "source": []
  }
 ],
 "metadata": {
  "kernelspec": {
   "display_name": "Python 3",
   "language": "python",
   "name": "python3"
  },
  "language_info": {
   "codemirror_mode": {
    "name": "ipython",
    "version": 3
   },
   "file_extension": ".py",
   "mimetype": "text/x-python",
   "name": "python",
   "nbconvert_exporter": "python",
   "pygments_lexer": "ipython3",
   "version": "3.8.3"
  }
 },
 "nbformat": 4,
 "nbformat_minor": 2
}
