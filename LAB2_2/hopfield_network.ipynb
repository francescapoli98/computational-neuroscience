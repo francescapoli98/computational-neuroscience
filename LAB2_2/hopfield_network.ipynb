{
 "cells": [
  {
   "cell_type": "markdown",
   "metadata": {},
   "source": [
    "# Assignment 1: Small Image Dataset "
   ]
  },
  {
   "cell_type": "markdown",
   "metadata": {},
   "source": [
    "Implement a function that, given an input vector p whose elements are +1s and -1s, and a scalar value d (within 0.05 and 1) returns a perturbed/distorted version of the input vector, flipping (i.e., changing the sign) of the d*100 % its elements.\n",
    "\n",
    "You can find an example of such a function, implemented in Python and MATLAB, in “distort_image” file (in the archive download at point 1). \n",
    "\n",
    "You can interpret the input p as an input image, and d as the percentage of distortion to apply.\n"
   ]
  },
  {
   "cell_type": "code",
   "execution_count": 1,
   "metadata": {},
   "outputs": [],
   "source": [
    "import numpy as np\n",
    "from numpy import linalg\n",
    "import matplotlib.pyplot as plt\n",
    "import pandas as pd\n",
    "import json\n",
    "from sklearn.model_selection import GridSearchCV\n",
    "from sklearn.utils import shuffle\n",
    "import itertools\n",
    "import random \n",
    "import glob\n",
    "\n",
    "from hopfield import Hopfield"
   ]
  },
  {
   "cell_type": "code",
   "execution_count": 2,
   "metadata": {},
   "outputs": [],
   "source": [
    "seed = 0\n",
    "random.seed(seed)\n",
    "np.random.seed(seed)"
   ]
  },
  {
   "cell_type": "code",
   "execution_count": 3,
   "metadata": {},
   "outputs": [
    {
     "data": {
      "text/plain": [
       "(3, 1023)"
      ]
     },
     "execution_count": 3,
     "metadata": {},
     "output_type": "execute_result"
    }
   ],
   "source": [
    "patterns = [pd.read_csv(filename).to_numpy() \n",
    "            for filename in glob.iglob('./data/p*.csv', \n",
    "                                    recursive = False)]\n",
    "patterns = np.array(patterns).squeeze()\n",
    "patterns.shape"
   ]
  },
  {
   "cell_type": "code",
   "execution_count": 4,
   "metadata": {},
   "outputs": [],
   "source": [
    "#through this unction we obtain a distorted version of the patterns\n",
    "#those will be fed to the network as the x (neuron states)\n",
    "def distort_image(im, prop):\n",
    "    if prop < 0 or prop > 1:\n",
    "        print('Out-of-bound proportion: going to default 0.05')\n",
    "        prop = 0.05  # Default\n",
    "    \n",
    "    # Calculation of the number of elements to be distorted.\n",
    "    total_elements = im.size\n",
    "    num_to_distort = round(total_elements * prop)\n",
    "    \n",
    "    # Random selection of the indices of the elements to be distorted.\n",
    "    indices_to_distort = np.random.permutation(total_elements)[:num_to_distort]\n",
    "    \n",
    "    # Flattening the image to facilitate access to and editing of elements.\n",
    "    im_flat = im.flatten()\n",
    "    im_flat[indices_to_distort] = -im_flat[indices_to_distort]\n",
    "    \n",
    "    # Return of the image to its original format after distortion.\n",
    "    return im_flat.reshape(im.shape)"
   ]
  },
  {
   "cell_type": "code",
   "execution_count": 5,
   "metadata": {},
   "outputs": [
    {
     "data": {
      "text/plain": [
       "[array([-1,  1, -1, ..., -1, -1, -1], dtype=int64),\n",
       " array([-1, -1, -1, ..., -1, -1, -1], dtype=int64),\n",
       " array([-1, -1, -1, ...,  1,  1, -1], dtype=int64),\n",
       " array([-1, -1, -1, ..., -1,  1, -1], dtype=int64),\n",
       " array([-1, -1, -1, ..., -1, -1, -1], dtype=int64),\n",
       " array([-1, -1, -1, ..., -1,  1, -1], dtype=int64),\n",
       " array([-1, -1, -1, ..., -1, -1, -1], dtype=int64),\n",
       " array([-1, -1, -1, ..., -1,  1, -1], dtype=int64),\n",
       " array([-1, -1, -1, ..., -1,  1, -1], dtype=int64)]"
      ]
     },
     "execution_count": 5,
     "metadata": {},
     "output_type": "execute_result"
    }
   ],
   "source": [
    "distortion = [0.05, 0.1, 0.25]\n",
    "dist_img = [distort_image(p, d) for p in patterns for d in distortion]\n",
    "dist_img # 3 patterns x 3 distortion values"
   ]
  },
  {
   "cell_type": "code",
   "execution_count": 6,
   "metadata": {},
   "outputs": [
    {
     "name": "stdout",
     "output_type": "stream",
     "text": [
      "[[0.7341153470185728, 0.7908113391984359, 0.855327468230694]] [-990519.0] [-1 -1 -1 ... -1 -1 -1]\n",
      "[[0.7341153470185728, 0.7908113391984359, 0.855327468230694]] [-990519.0] [-1 -1 -1 ... -1 -1 -1]\n",
      "[[0.7341153470185728, 0.7908113391984359, 0.855327468230694]] [-990519.0] [-1 -1 -1 ... -1 -1 -1]\n",
      "[[0.7341153470185728, 0.7908113391984359, 0.855327468230694]] [-990519.0] [-1 -1 -1 ... -1 -1 -1]\n",
      "[[0.7341153470185728, 0.7908113391984359, 0.855327468230694]] [-990519.0] [-1 -1 -1 ... -1 -1 -1]\n",
      "[[0.7341153470185728, 0.7908113391984359, 0.855327468230694]] [-990519.0] [-1 -1 -1 ... -1 -1 -1]\n",
      "[[0.7341153470185728, 0.7908113391984359, 0.855327468230694]] [-990519.0] [-1 -1 -1 ... -1 -1 -1]\n",
      "[[0.7341153470185728, 0.7908113391984359, 0.855327468230694]] [-990519.0] [-1 -1 -1 ... -1 -1 -1]\n",
      "[[0.7341153470185728, 0.7908113391984359, 0.855327468230694]] [-990519.0] [-1 -1 -1 ... -1 -1 -1]\n"
     ]
    }
   ],
   "source": [
    "for img in dist_img:\n",
    "    hf = Hopfield(img, patterns)\n",
    "    hf()\n",
    "    #plots"
   ]
  }
 ],
 "metadata": {
  "kernelspec": {
   "display_name": "Python 3",
   "language": "python",
   "name": "python3"
  },
  "language_info": {
   "codemirror_mode": {
    "name": "ipython",
    "version": 3
   },
   "file_extension": ".py",
   "mimetype": "text/x-python",
   "name": "python",
   "nbconvert_exporter": "python",
   "pygments_lexer": "ipython3",
   "version": "3.8.3"
  }
 },
 "nbformat": 4,
 "nbformat_minor": 2
}
