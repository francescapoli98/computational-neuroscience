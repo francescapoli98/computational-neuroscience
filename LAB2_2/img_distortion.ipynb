{
 "cells": [
  {
   "cell_type": "markdown",
   "metadata": {},
   "source": [
    "# Assignment 1: Small Image Dataset "
   ]
  },
  {
   "cell_type": "markdown",
   "metadata": {},
   "source": [
    "Implement a function that, given an input vector p whose elements are +1s and -1s, and a scalar value d (within 0.05 and 1) returns a perturbed/distorted version of the input vector, flipping (i.e., changing the sign) of the d*100 % its elements.\n",
    "\n",
    "You can find an example of such a function, implemented in Python and MATLAB, in “distort_image” file (in the archive download at point 1). \n",
    "\n",
    "You can interpret the input p as an input image, and d as the percentage of distortion to apply.\n"
   ]
  },
  {
   "cell_type": "code",
   "execution_count": 4,
   "metadata": {},
   "outputs": [],
   "source": [
    "import numpy as np\n",
    "from numpy import linalg\n",
    "import matplotlib.pyplot as plt\n",
    "import pandas as pd\n",
    "import json\n",
    "from sklearn.model_selection import GridSearchCV\n",
    "from sklearn.utils import shuffle\n",
    "import itertools\n",
    "import random\n",
    "\n",
    "#from hopfield import Hopfield"
   ]
  },
  {
   "cell_type": "code",
   "execution_count": 6,
   "metadata": {},
   "outputs": [],
   "source": [
    "p0 = pd.read_csv('./data/p0.csv', header=None).to_numpy()\n",
    "p1 = pd.read_csv('./data/p1.csv', header=None).to_numpy()\n",
    "p2 = pd.read_csv('./data/p2.csv', header=None).to_numpy()\n",
    "d = np.random.uniform(low=0.05, high=1.0, size=None)"
   ]
  },
  {
   "cell_type": "code",
   "execution_count": 7,
   "metadata": {},
   "outputs": [],
   "source": [
    "#through this unction we obtain a distorted version of the patterns\n",
    "#those will be fed to the network as the x (neuron states)\n",
    "def distort_image(im, prop):\n",
    "    if prop < 0 or prop > 1:\n",
    "        print('Out-of-bound proportion: going to default 0.05')\n",
    "        prop = 0.05  # Default\n",
    "    \n",
    "    # Calculation of the number of elements to be distorted.\n",
    "    total_elements = im.size\n",
    "    num_to_distort = round(total_elements * prop)\n",
    "    \n",
    "    # Random selection of the indices of the elements to be distorted.\n",
    "    indices_to_distort = np.random.permutation(total_elements)[:num_to_distort]\n",
    "    \n",
    "    # Flattening the image to facilitate access to and editing of elements.\n",
    "    im_flat = im.flatten()\n",
    "    im_flat[indices_to_distort] = -im_flat[indices_to_distort]\n",
    "    \n",
    "    # Return of the image to its original format after distortion.\n",
    "    return im_flat.reshape(im.shape)"
   ]
  },
  {
   "cell_type": "code",
   "execution_count": 14,
   "metadata": {},
   "outputs": [
    {
     "data": {
      "text/plain": [
       "(array([[-1],\n",
       "        [ 1],\n",
       "        [ 1],\n",
       "        ...,\n",
       "        [ 1],\n",
       "        [ 1],\n",
       "        [ 1]], dtype=int64),\n",
       " array([[-1],\n",
       "        [ 1],\n",
       "        [ 1],\n",
       "        ...,\n",
       "        [ 1],\n",
       "        [ 1],\n",
       "        [ 1]], dtype=int64),\n",
       " array([[-1],\n",
       "        [-1],\n",
       "        [ 1],\n",
       "        ...,\n",
       "        [ 1],\n",
       "        [ 1],\n",
       "        [ 1]], dtype=int64))"
      ]
     },
     "execution_count": 14,
     "metadata": {},
     "output_type": "execute_result"
    }
   ],
   "source": [
    "#get the initial states \n",
    "x0 = distort_image(p0, d)\n",
    "x1 = distort_image(p1, d)\n",
    "x2 = distort_image(p2, d)\n",
    "x0, x1, x2"
   ]
  },
  {
   "cell_type": "code",
   "execution_count": 17,
   "metadata": {},
   "outputs": [
    {
     "data": {
      "text/plain": [
       "((1024, 1), (1024, 1), (1024, 1))"
      ]
     },
     "execution_count": 17,
     "metadata": {},
     "output_type": "execute_result"
    }
   ],
   "source": [
    "x0.shape, x1.shape, x2.shape"
   ]
  },
  {
   "cell_type": "code",
   "execution_count": 36,
   "metadata": {},
   "outputs": [
    {
     "data": {
      "text/plain": [
       "(3, 1024, 1)"
      ]
     },
     "execution_count": 36,
     "metadata": {},
     "output_type": "execute_result"
    }
   ],
   "source": [
    "input_data = np.array([x0, x1, x2])\n",
    "input_data.shape"
   ]
  },
  {
   "cell_type": "code",
   "execution_count": 37,
   "metadata": {},
   "outputs": [
    {
     "data": {
      "text/plain": [
       "(3, 1024, 1)"
      ]
     },
     "execution_count": 37,
     "metadata": {},
     "output_type": "execute_result"
    }
   ],
   "source": [
    "patterns = np.array([p0, p1, p2])\n",
    "patterns.shape"
   ]
  },
  {
   "cell_type": "code",
   "execution_count": null,
   "metadata": {},
   "outputs": [],
   "source": []
  }
 ],
 "metadata": {
  "kernelspec": {
   "display_name": "Python 3",
   "language": "python",
   "name": "python3"
  },
  "language_info": {
   "codemirror_mode": {
    "name": "ipython",
    "version": 3
   },
   "file_extension": ".py",
   "mimetype": "text/x-python",
   "name": "python",
   "nbconvert_exporter": "python",
   "pygments_lexer": "ipython3",
   "version": "3.8.3"
  }
 },
 "nbformat": 4,
 "nbformat_minor": 2
}
