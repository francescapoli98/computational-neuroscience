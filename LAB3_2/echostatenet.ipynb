{
 "cells": [
  {
   "cell_type": "markdown",
   "metadata": {},
   "source": [
    "# NARMA10 task\n",
    "\n",
    "This task consists in predicting the output of a 10-th order non-linear autoregressive moving average (NARMA) system.\n",
    "- [Reference paper](https://doi.org/10.1016/j.neunet.2011.02.002)"
   ]
  },
  {
   "cell_type": "markdown",
   "metadata": {},
   "source": [
    "You need to:\n",
    "- scale matrix with spectral radius\n",
    "- treat weights as hyperparameters\n",
    "- you can try the readout ridge regression using tikhonov as a hyperparameter\n",
    "- metric: MSE\n",
    "\n",
    "- for each hyperparam combination try 5 random initialization and MSE/MSD\n"
   ]
  },
  {
   "cell_type": "code",
   "execution_count": null,
   "metadata": {},
   "outputs": [],
   "source": [
    "import numpy as np\n",
    "import matplotlib.pyplot as plt\n",
    "import pandas as pd\n",
    "import json\n",
    "from sklearn.model_selection import GridSearchCV\n",
    "from sklearn.metrics import mean_absolute_error\n",
    "\n",
    "import torch\n",
    "import torch.nn as nn\n",
    "from torch import cuda\n",
    "from torch.nn import Module, Sequential, Tensor, Linear, Tanh, MSELoss, RNN\n",
    "\n",
    "#from utils import utils\n",
    "from tdnn_rnn import TDNN_model, RNN_model"
   ]
  }
 ],
 "metadata": {
  "language_info": {
   "name": "python"
  }
 },
 "nbformat": 4,
 "nbformat_minor": 2
}
